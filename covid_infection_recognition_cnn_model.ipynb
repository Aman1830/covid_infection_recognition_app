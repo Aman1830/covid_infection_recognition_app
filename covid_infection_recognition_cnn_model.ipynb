{
 "cells": [
  {
   "cell_type": "markdown",
   "id": "a586790b-fb84-4486-a8f8-51634702810f",
   "metadata": {},
   "source": [
    "# COVID Infected Recognition using Deep Learning (CNN)"
   ]
  },
  {
   "cell_type": "markdown",
   "id": "7d6cb27c-f507-4195-acd8-cb41db4a0262",
   "metadata": {},
   "source": [
    "## Introduction towards Dataset\n",
    "\n",
    "<b>We build a public available SARS-CoV-2 CT scan dataset, containing 1252 CT scans that are positive for SARS-CoV-2 infection (COVID-19) and 1230 CT scans for patients non-infected by SARS-CoV-2, 2482 CT scans in total. These data have been collected from real patients in hospitals from Sao Paulo, Brazil. The aim of this dataset is to encourage the research and development of artificial intelligent methods which are able to identify if a person is infected by SARS-CoV-2 through the analysis of his/her CT scans. As baseline result for this dataset we used an explainable Deep Learning approach (xDNN) which we could achieve an F1 score of 97.31% which is very promising.</b>\n"
   ]
  },
  {
   "cell_type": "markdown",
   "id": "3f75ef96-3662-4a54-b5a8-25925ded8058",
   "metadata": {},
   "source": [
    "### Reading the Images data"
   ]
  },
  {
   "cell_type": "code",
   "execution_count": 7,
   "id": "4d4e43ce-5efb-4df6-a599-68e22e3f2c61",
   "metadata": {
    "tags": []
   },
   "outputs": [
    {
     "name": "stdout",
     "output_type": "stream",
     "text": [
      "Found 2461 images belonging to 2 classes.\n",
      "Found 2461 images belonging to 2 classes.\n"
     ]
    },
    {
     "data": {
      "text/plain": [
       "{'COVID': 0, 'non-COVID': 1}"
      ]
     },
     "execution_count": 7,
     "metadata": {},
     "output_type": "execute_result"
    }
   ],
   "source": [
    "# Deep Learning CNN model to recognize whether COVID Infected or Non-COVID Infected\n",
    "\n",
    "'''########################## IMAGE PRE-PROCESSING for TRAINING and TESTING data ##############################'''\n",
    "\n",
    "TrainingImagePath='C:/Users/Niraj Gupta/Desktop/Naveen/Medical Billing Project/SARS-COV-2 Ct-Scan Dataset/Training Dataset'\n",
    "\n",
    "from tensorflow.keras.preprocessing.image import ImageDataGenerator\n",
    "\n",
    "# Defining pre-processing transformations on raw images of training data\n",
    "train_datagen = ImageDataGenerator(\n",
    "        rescale=1./255,\n",
    "        shear_range=0.1,\n",
    "        zoom_range=0.1,\n",
    "        horizontal_flip=True)\n",
    "\n",
    "# Defining pre-processing transformations on raw images of testing data\n",
    "test_datagen = ImageDataGenerator(rescale=1./255)\n",
    "\n",
    "# Generating the Training Data\n",
    "training_set = train_datagen.flow_from_directory(\n",
    "        TrainingImagePath,\n",
    "        target_size=(64, 64),\n",
    "        batch_size=32,\n",
    "        class_mode='categorical')\n",
    "\n",
    "\n",
    "# Generating the Testing Data\n",
    "test_set = test_datagen.flow_from_directory(\n",
    "        TrainingImagePath,\n",
    "        target_size=(64, 64),\n",
    "        batch_size=32,\n",
    "        class_mode='categorical')\n",
    "\n",
    "# Printing class labels for each face\n",
    "test_set.class_indices"
   ]
  },
  {
   "cell_type": "markdown",
   "id": "b6ecf5c4-dc70-4166-a335-02470fb7aa1a",
   "metadata": {},
   "source": [
    "### Creating a list of CT Scan with COVID & Non-COVID and classes"
   ]
  },
  {
   "cell_type": "code",
   "execution_count": 8,
   "id": "9491dba2-a72d-40be-8ea7-06cc9db41ab4",
   "metadata": {
    "tags": []
   },
   "outputs": [
    {
     "name": "stdout",
     "output_type": "stream",
     "text": [
      "Mapping of CT Scan with COVID & Non-COVID Images and its ID {0: 'COVID', 1: 'non-COVID'}\n",
      "\n",
      " The Number of output neurons:  2\n"
     ]
    }
   ],
   "source": [
    "'''#################### Creating lookup table for all CT Scan with COVID & Non-COVID ##############################'''\n",
    "# class_indices have the numeric tag for each face\n",
    "TrainClasses=training_set.class_indices\n",
    "\n",
    "# Storing the CT Scan with COVID & Non-COVID Images and the numeric tag for future reference\n",
    "ResultMap={}\n",
    "for faceValue,faceName in zip(TrainClasses.values(),TrainClasses.keys()):\n",
    "    ResultMap[faceValue]=faceName\n",
    "\n",
    "# Saving the CT Scan with COVID & Non-COVID map for future reference\n",
    "import pickle\n",
    "with open(\"ResultsMap.pkl\", 'wb') as f:\n",
    "    pickle.dump(ResultMap, f, pickle.HIGHEST_PROTOCOL)\n",
    "\n",
    "print(\"Mapping of CT Scan with COVID & Non-COVID Images and its ID\",ResultMap)\n",
    "\n",
    "# The number of neurons for the output layer is equal to the number of faces\n",
    "OutputNeurons=len(ResultMap)\n",
    "print('\\n The Number of output neurons: ', OutputNeurons)"
   ]
  },
  {
   "cell_type": "markdown",
   "id": "8e0407a6-3527-4cd4-b0b5-cdf19de69c71",
   "metadata": {},
   "source": [
    "### Creating the CNN model"
   ]
  },
  {
   "cell_type": "code",
   "execution_count": 9,
   "id": "3371a7b7-2b97-41f3-9eff-93910a64392e",
   "metadata": {
    "tags": []
   },
   "outputs": [
    {
     "name": "stderr",
     "output_type": "stream",
     "text": [
      "C:\\Users\\Niraj Gupta\\Anaconda_Python\\Lib\\site-packages\\keras\\src\\layers\\convolutional\\base_conv.py:107: UserWarning: Do not pass an `input_shape`/`input_dim` argument to a layer. When using Sequential models, prefer using an `Input(shape)` object as the first layer in the model instead.\n",
      "  super().__init__(activity_regularizer=activity_regularizer, **kwargs)\n"
     ]
    }
   ],
   "source": [
    "'''######################## Create CNN deep learning model ####################################'''\n",
    "from keras.models import Sequential\n",
    "from keras.layers import Convolution2D\n",
    "from keras.layers import MaxPool2D\n",
    "from keras.layers import Flatten\n",
    "from keras.layers import Dense\n",
    "\n",
    "'''Initializing the Convolutional Neural Network'''\n",
    "classifier= Sequential()\n",
    "\n",
    "''' STEP--1 Convolution'''\n",
    "classifier.add(Convolution2D(filters=32, kernel_size=(3, 3), strides=(1, 1), input_shape=(64,64,3), activation='relu'))\n",
    "\n",
    "'''# STEP--2 MAX Pooling'''\n",
    "classifier.add(MaxPool2D(pool_size=(2,2)))\n",
    "\n",
    "'''############## ADDITIONAL LAYER of CONVOLUTION for better accuracy #################'''\n",
    "classifier.add(Convolution2D(filters=64, kernel_size=(5, 5), strides=(2, 2), activation='relu'))\n",
    "\n",
    "classifier.add(MaxPool2D(pool_size=(2,2)))\n",
    "\n",
    "\n",
    "'''# STEP--3 FLattening'''\n",
    "classifier.add(Flatten())\n",
    "\n",
    "'''# STEP--4 Fully Connected Neural Network'''\n",
    "classifier.add(Dense(64, activation='relu'))\n",
    "\n",
    "# Output layer\n",
    "classifier.add(Dense(OutputNeurons, activation='softmax'))\n",
    "\n",
    "'''# Compiling the CNN'''\n",
    "classifier.compile(loss='categorical_crossentropy', optimizer = 'adam', metrics=[\"accuracy\"])"
   ]
  },
  {
   "cell_type": "markdown",
   "id": "84caff8b-e42c-4dd1-9e7e-b7167a838ce7",
   "metadata": {},
   "source": [
    "### Fitting the model"
   ]
  },
  {
   "cell_type": "code",
   "execution_count": 10,
   "id": "17c7d953-46f6-4c75-afaa-b59208b86a2d",
   "metadata": {
    "tags": []
   },
   "outputs": [
    {
     "name": "stdout",
     "output_type": "stream",
     "text": [
      "Epoch 1/60\n"
     ]
    },
    {
     "name": "stderr",
     "output_type": "stream",
     "text": [
      "C:\\Users\\Niraj Gupta\\Anaconda_Python\\Lib\\site-packages\\keras\\src\\trainers\\data_adapters\\py_dataset_adapter.py:121: UserWarning: Your `PyDataset` class should call `super().__init__(**kwargs)` in its constructor. `**kwargs` can include `workers`, `use_multiprocessing`, `max_queue_size`. Do not pass these arguments to `fit()`, as they will be ignored.\n",
      "  self._warn_if_super_not_called()\n"
     ]
    },
    {
     "name": "stdout",
     "output_type": "stream",
     "text": [
      "\u001b[1m5/5\u001b[0m \u001b[32m━━━━━━━━━━━━━━━━━━━━\u001b[0m\u001b[37m\u001b[0m \u001b[1m7s\u001b[0m 684ms/step - accuracy: 0.5232 - loss: 0.7097 - val_accuracy: 0.5469 - val_loss: 0.7359\n",
      "Epoch 2/60\n",
      "\u001b[1m5/5\u001b[0m \u001b[32m━━━━━━━━━━━━━━━━━━━━\u001b[0m\u001b[37m\u001b[0m \u001b[1m1s\u001b[0m 287ms/step - accuracy: 0.5237 - loss: 0.7225 - val_accuracy: 0.4688 - val_loss: 0.6975\n",
      "Epoch 3/60\n",
      "\u001b[1m5/5\u001b[0m \u001b[32m━━━━━━━━━━━━━━━━━━━━\u001b[0m\u001b[37m\u001b[0m \u001b[1m2s\u001b[0m 325ms/step - accuracy: 0.4535 - loss: 0.7026 - val_accuracy: 0.7188 - val_loss: 0.6866\n",
      "Epoch 4/60\n",
      "\u001b[1m5/5\u001b[0m \u001b[32m━━━━━━━━━━━━━━━━━━━━\u001b[0m\u001b[37m\u001b[0m \u001b[1m2s\u001b[0m 332ms/step - accuracy: 0.6617 - loss: 0.6856 - val_accuracy: 0.7031 - val_loss: 0.6682\n",
      "Epoch 5/60\n",
      "\u001b[1m5/5\u001b[0m \u001b[32m━━━━━━━━━━━━━━━━━━━━\u001b[0m\u001b[37m\u001b[0m \u001b[1m2s\u001b[0m 328ms/step - accuracy: 0.5266 - loss: 0.6863 - val_accuracy: 0.7031 - val_loss: 0.6754\n",
      "Epoch 6/60\n",
      "\u001b[1m5/5\u001b[0m \u001b[32m━━━━━━━━━━━━━━━━━━━━\u001b[0m\u001b[37m\u001b[0m \u001b[1m2s\u001b[0m 313ms/step - accuracy: 0.6303 - loss: 0.6744 - val_accuracy: 0.5312 - val_loss: 0.6695\n",
      "Epoch 7/60\n",
      "\u001b[1m5/5\u001b[0m \u001b[32m━━━━━━━━━━━━━━━━━━━━\u001b[0m\u001b[37m\u001b[0m \u001b[1m1s\u001b[0m 277ms/step - accuracy: 0.5905 - loss: 0.6603 - val_accuracy: 0.7344 - val_loss: 0.6353\n",
      "Epoch 8/60\n",
      "\u001b[1m5/5\u001b[0m \u001b[32m━━━━━━━━━━━━━━━━━━━━\u001b[0m\u001b[37m\u001b[0m \u001b[1m1s\u001b[0m 253ms/step - accuracy: 0.5552 - loss: 0.6826 - val_accuracy: 0.5469 - val_loss: 0.6453\n",
      "Epoch 9/60\n",
      "\u001b[1m5/5\u001b[0m \u001b[32m━━━━━━━━━━━━━━━━━━━━\u001b[0m\u001b[37m\u001b[0m \u001b[1m1s\u001b[0m 253ms/step - accuracy: 0.5283 - loss: 0.6530 - val_accuracy: 0.5312 - val_loss: 0.7048\n",
      "Epoch 10/60\n",
      "\u001b[1m5/5\u001b[0m \u001b[32m━━━━━━━━━━━━━━━━━━━━\u001b[0m\u001b[37m\u001b[0m \u001b[1m1s\u001b[0m 244ms/step - accuracy: 0.5178 - loss: 0.6800 - val_accuracy: 0.5469 - val_loss: 0.6687\n",
      "Epoch 11/60\n",
      "\u001b[1m5/5\u001b[0m \u001b[32m━━━━━━━━━━━━━━━━━━━━\u001b[0m\u001b[37m\u001b[0m \u001b[1m1s\u001b[0m 250ms/step - accuracy: 0.5748 - loss: 0.6392 - val_accuracy: 0.7344 - val_loss: 0.6196\n",
      "Epoch 12/60\n",
      "\u001b[1m5/5\u001b[0m \u001b[32m━━━━━━━━━━━━━━━━━━━━\u001b[0m\u001b[37m\u001b[0m \u001b[1m1s\u001b[0m 229ms/step - accuracy: 0.6997 - loss: 0.5961 - val_accuracy: 0.7344 - val_loss: 0.5816\n",
      "Epoch 13/60\n",
      "\u001b[1m5/5\u001b[0m \u001b[32m━━━━━━━━━━━━━━━━━━━━\u001b[0m\u001b[37m\u001b[0m \u001b[1m1s\u001b[0m 219ms/step - accuracy: 0.7529 - loss: 0.5638 - val_accuracy: 0.6250 - val_loss: 0.6350\n",
      "Epoch 14/60\n",
      "\u001b[1m5/5\u001b[0m \u001b[32m━━━━━━━━━━━━━━━━━━━━\u001b[0m\u001b[37m\u001b[0m \u001b[1m1s\u001b[0m 220ms/step - accuracy: 0.6208 - loss: 0.6320 - val_accuracy: 0.7500 - val_loss: 0.5170\n",
      "Epoch 15/60\n",
      "\u001b[1m5/5\u001b[0m \u001b[32m━━━━━━━━━━━━━━━━━━━━\u001b[0m\u001b[37m\u001b[0m \u001b[1m0s\u001b[0m 101ms/step - accuracy: 0.7435 - loss: 0.5220 - val_accuracy: 0.6719 - val_loss: 0.5696\n",
      "Epoch 16/60\n",
      "\u001b[1m1/5\u001b[0m \u001b[32m━━━━\u001b[0m\u001b[37m━━━━━━━━━━━━━━━━\u001b[0m \u001b[1m0s\u001b[0m 24ms/step - accuracy: 0.6562 - loss: 0.5824"
     ]
    },
    {
     "name": "stderr",
     "output_type": "stream",
     "text": [
      "C:\\Users\\Niraj Gupta\\Anaconda_Python\\Lib\\contextlib.py:155: UserWarning: Your input ran out of data; interrupting training. Make sure that your dataset or generator can generate at least `steps_per_epoch * epochs` batches. You may need to use the `.repeat()` function when building your dataset.\n",
      "  self.gen.throw(typ, value, traceback)\n"
     ]
    },
    {
     "name": "stdout",
     "output_type": "stream",
     "text": [
      "\u001b[1m5/5\u001b[0m \u001b[32m━━━━━━━━━━━━━━━━━━━━\u001b[0m\u001b[37m\u001b[0m \u001b[1m0s\u001b[0m 83ms/step - accuracy: 0.6438 - loss: 0.5612 - val_accuracy: 0.7031 - val_loss: 0.5258\n",
      "Epoch 17/60\n",
      "\u001b[1m5/5\u001b[0m \u001b[32m━━━━━━━━━━━━━━━━━━━━\u001b[0m\u001b[37m\u001b[0m \u001b[1m3s\u001b[0m 215ms/step - accuracy: 0.7023 - loss: 0.5716 - val_accuracy: 0.7500 - val_loss: 0.4939\n",
      "Epoch 18/60\n",
      "\u001b[1m5/5\u001b[0m \u001b[32m━━━━━━━━━━━━━━━━━━━━\u001b[0m\u001b[37m\u001b[0m \u001b[1m1s\u001b[0m 211ms/step - accuracy: 0.6275 - loss: 0.6504 - val_accuracy: 0.6250 - val_loss: 0.5563\n",
      "Epoch 19/60\n",
      "\u001b[1m5/5\u001b[0m \u001b[32m━━━━━━━━━━━━━━━━━━━━\u001b[0m\u001b[37m\u001b[0m \u001b[1m1s\u001b[0m 190ms/step - accuracy: 0.5285 - loss: 0.6817 - val_accuracy: 0.6250 - val_loss: 0.6220\n",
      "Epoch 20/60\n",
      "\u001b[1m5/5\u001b[0m \u001b[32m━━━━━━━━━━━━━━━━━━━━\u001b[0m\u001b[37m\u001b[0m \u001b[1m1s\u001b[0m 200ms/step - accuracy: 0.6961 - loss: 0.5925 - val_accuracy: 0.6562 - val_loss: 0.6258\n",
      "Epoch 21/60\n",
      "\u001b[1m5/5\u001b[0m \u001b[32m━━━━━━━━━━━━━━━━━━━━\u001b[0m\u001b[37m\u001b[0m \u001b[1m1s\u001b[0m 181ms/step - accuracy: 0.7226 - loss: 0.6052 - val_accuracy: 0.6719 - val_loss: 0.6166\n",
      "Epoch 22/60\n",
      "\u001b[1m5/5\u001b[0m \u001b[32m━━━━━━━━━━━━━━━━━━━━\u001b[0m\u001b[37m\u001b[0m \u001b[1m1s\u001b[0m 198ms/step - accuracy: 0.7920 - loss: 0.5578 - val_accuracy: 0.8281 - val_loss: 0.4931\n",
      "Epoch 23/60\n",
      "\u001b[1m5/5\u001b[0m \u001b[32m━━━━━━━━━━━━━━━━━━━━\u001b[0m\u001b[37m\u001b[0m \u001b[1m1s\u001b[0m 184ms/step - accuracy: 0.6848 - loss: 0.6002 - val_accuracy: 0.7812 - val_loss: 0.5052\n",
      "Epoch 24/60\n",
      "\u001b[1m5/5\u001b[0m \u001b[32m━━━━━━━━━━━━━━━━━━━━\u001b[0m\u001b[37m\u001b[0m \u001b[1m1s\u001b[0m 183ms/step - accuracy: 0.7247 - loss: 0.5121 - val_accuracy: 0.8438 - val_loss: 0.4698\n",
      "Epoch 25/60\n",
      "\u001b[1m5/5\u001b[0m \u001b[32m━━━━━━━━━━━━━━━━━━━━\u001b[0m\u001b[37m\u001b[0m \u001b[1m1s\u001b[0m 184ms/step - accuracy: 0.7247 - loss: 0.5722 - val_accuracy: 0.6406 - val_loss: 0.5624\n",
      "Epoch 26/60\n",
      "\u001b[1m5/5\u001b[0m \u001b[32m━━━━━━━━━━━━━━━━━━━━\u001b[0m\u001b[37m\u001b[0m \u001b[1m1s\u001b[0m 171ms/step - accuracy: 0.7293 - loss: 0.5403 - val_accuracy: 0.7812 - val_loss: 0.5500\n",
      "Epoch 27/60\n",
      "\u001b[1m5/5\u001b[0m \u001b[32m━━━━━━━━━━━━━━━━━━━━\u001b[0m\u001b[37m\u001b[0m \u001b[1m1s\u001b[0m 173ms/step - accuracy: 0.6940 - loss: 0.5620 - val_accuracy: 0.7812 - val_loss: 0.5082\n",
      "Epoch 28/60\n",
      "\u001b[1m5/5\u001b[0m \u001b[32m━━━━━━━━━━━━━━━━━━━━\u001b[0m\u001b[37m\u001b[0m \u001b[1m1s\u001b[0m 167ms/step - accuracy: 0.7533 - loss: 0.5032 - val_accuracy: 0.7656 - val_loss: 0.5038\n",
      "Epoch 29/60\n",
      "\u001b[1m5/5\u001b[0m \u001b[32m━━━━━━━━━━━━━━━━━━━━\u001b[0m\u001b[37m\u001b[0m \u001b[1m1s\u001b[0m 171ms/step - accuracy: 0.7121 - loss: 0.5380 - val_accuracy: 0.8281 - val_loss: 0.3812\n",
      "Epoch 30/60\n",
      "\u001b[1m5/5\u001b[0m \u001b[32m━━━━━━━━━━━━━━━━━━━━\u001b[0m\u001b[37m\u001b[0m \u001b[1m1s\u001b[0m 179ms/step - accuracy: 0.7935 - loss: 0.4673 - val_accuracy: 0.7031 - val_loss: 0.5852\n",
      "Epoch 31/60\n",
      "\u001b[1m5/5\u001b[0m \u001b[32m━━━━━━━━━━━━━━━━━━━━\u001b[0m\u001b[37m\u001b[0m \u001b[1m0s\u001b[0m 25ms/step - accuracy: 0.6762 - loss: 0.6055 - val_accuracy: 0.8125 - val_loss: 0.4137\n",
      "Epoch 32/60\n",
      "\u001b[1m5/5\u001b[0m \u001b[32m━━━━━━━━━━━━━━━━━━━━\u001b[0m\u001b[37m\u001b[0m \u001b[1m0s\u001b[0m 43ms/step - accuracy: 0.8313 - loss: 0.4958 - val_accuracy: 0.7656 - val_loss: 0.5216\n",
      "Epoch 33/60\n",
      "\u001b[1m5/5\u001b[0m \u001b[32m━━━━━━━━━━━━━━━━━━━━\u001b[0m\u001b[37m\u001b[0m \u001b[1m2s\u001b[0m 188ms/step - accuracy: 0.7515 - loss: 0.5485 - val_accuracy: 0.8281 - val_loss: 0.4100\n",
      "Epoch 34/60\n",
      "\u001b[1m5/5\u001b[0m \u001b[32m━━━━━━━━━━━━━━━━━━━━\u001b[0m\u001b[37m\u001b[0m \u001b[1m1s\u001b[0m 173ms/step - accuracy: 0.6908 - loss: 0.6128 - val_accuracy: 0.6250 - val_loss: 0.5827\n",
      "Epoch 35/60\n",
      "\u001b[1m5/5\u001b[0m \u001b[32m━━━━━━━━━━━━━━━━━━━━\u001b[0m\u001b[37m\u001b[0m \u001b[1m1s\u001b[0m 204ms/step - accuracy: 0.7039 - loss: 0.5756 - val_accuracy: 0.7500 - val_loss: 0.5462\n",
      "Epoch 36/60\n",
      "\u001b[1m5/5\u001b[0m \u001b[32m━━━━━━━━━━━━━━━━━━━━\u001b[0m\u001b[37m\u001b[0m \u001b[1m1s\u001b[0m 177ms/step - accuracy: 0.7097 - loss: 0.5546 - val_accuracy: 0.8281 - val_loss: 0.4530\n",
      "Epoch 37/60\n",
      "\u001b[1m5/5\u001b[0m \u001b[32m━━━━━━━━━━━━━━━━━━━━\u001b[0m\u001b[37m\u001b[0m \u001b[1m1s\u001b[0m 162ms/step - accuracy: 0.7658 - loss: 0.4873 - val_accuracy: 0.7969 - val_loss: 0.4258\n",
      "Epoch 38/60\n",
      "\u001b[1m5/5\u001b[0m \u001b[32m━━━━━━━━━━━━━━━━━━━━\u001b[0m\u001b[37m\u001b[0m \u001b[1m1s\u001b[0m 157ms/step - accuracy: 0.7924 - loss: 0.4421 - val_accuracy: 0.8125 - val_loss: 0.4176\n",
      "Epoch 39/60\n",
      "\u001b[1m5/5\u001b[0m \u001b[32m━━━━━━━━━━━━━━━━━━━━\u001b[0m\u001b[37m\u001b[0m \u001b[1m1s\u001b[0m 180ms/step - accuracy: 0.7694 - loss: 0.4843 - val_accuracy: 0.7241 - val_loss: 0.5455\n",
      "Epoch 40/60\n",
      "\u001b[1m5/5\u001b[0m \u001b[32m━━━━━━━━━━━━━━━━━━━━\u001b[0m\u001b[37m\u001b[0m \u001b[1m1s\u001b[0m 247ms/step - accuracy: 0.7964 - loss: 0.4603 - val_accuracy: 0.7656 - val_loss: 0.4905\n",
      "Epoch 41/60\n",
      "\u001b[1m5/5\u001b[0m \u001b[32m━━━━━━━━━━━━━━━━━━━━\u001b[0m\u001b[37m\u001b[0m \u001b[1m1s\u001b[0m 159ms/step - accuracy: 0.7936 - loss: 0.4198 - val_accuracy: 0.8125 - val_loss: 0.4684\n",
      "Epoch 42/60\n",
      "\u001b[1m5/5\u001b[0m \u001b[32m━━━━━━━━━━━━━━━━━━━━\u001b[0m\u001b[37m\u001b[0m \u001b[1m1s\u001b[0m 174ms/step - accuracy: 0.7740 - loss: 0.5354 - val_accuracy: 0.7656 - val_loss: 0.4391\n",
      "Epoch 43/60\n",
      "\u001b[1m5/5\u001b[0m \u001b[32m━━━━━━━━━━━━━━━━━━━━\u001b[0m\u001b[37m\u001b[0m \u001b[1m1s\u001b[0m 166ms/step - accuracy: 0.8183 - loss: 0.4277 - val_accuracy: 0.7656 - val_loss: 0.5079\n",
      "Epoch 44/60\n",
      "\u001b[1m5/5\u001b[0m \u001b[32m━━━━━━━━━━━━━━━━━━━━\u001b[0m\u001b[37m\u001b[0m \u001b[1m1s\u001b[0m 157ms/step - accuracy: 0.8050 - loss: 0.4368 - val_accuracy: 0.7344 - val_loss: 0.4856\n",
      "Epoch 45/60\n",
      "\u001b[1m5/5\u001b[0m \u001b[32m━━━━━━━━━━━━━━━━━━━━\u001b[0m\u001b[37m\u001b[0m \u001b[1m1s\u001b[0m 152ms/step - accuracy: 0.6861 - loss: 0.5572 - val_accuracy: 0.7031 - val_loss: 0.5391\n",
      "Epoch 46/60\n",
      "\u001b[1m5/5\u001b[0m \u001b[32m━━━━━━━━━━━━━━━━━━━━\u001b[0m\u001b[37m\u001b[0m \u001b[1m1s\u001b[0m 152ms/step - accuracy: 0.7819 - loss: 0.5364 - val_accuracy: 0.7812 - val_loss: 0.4559\n",
      "Epoch 47/60\n",
      "\u001b[1m5/5\u001b[0m \u001b[32m━━━━━━━━━━━━━━━━━━━━\u001b[0m\u001b[37m\u001b[0m \u001b[1m0s\u001b[0m 64ms/step - accuracy: 0.7653 - loss: 0.4896 - val_accuracy: 0.7344 - val_loss: 0.4991\n",
      "Epoch 48/60\n",
      "\u001b[1m5/5\u001b[0m \u001b[32m━━━━━━━━━━━━━━━━━━━━\u001b[0m\u001b[37m\u001b[0m \u001b[1m0s\u001b[0m 57ms/step - accuracy: 0.8438 - loss: 0.4816 - val_accuracy: 0.7500 - val_loss: 0.4769\n",
      "Epoch 49/60\n",
      "\u001b[1m5/5\u001b[0m \u001b[32m━━━━━━━━━━━━━━━━━━━━\u001b[0m\u001b[37m\u001b[0m \u001b[1m2s\u001b[0m 152ms/step - accuracy: 0.8405 - loss: 0.4040 - val_accuracy: 0.7344 - val_loss: 0.4449\n",
      "Epoch 50/60\n",
      "\u001b[1m5/5\u001b[0m \u001b[32m━━━━━━━━━━━━━━━━━━━━\u001b[0m\u001b[37m\u001b[0m \u001b[1m1s\u001b[0m 157ms/step - accuracy: 0.8320 - loss: 0.4173 - val_accuracy: 0.7812 - val_loss: 0.4891\n",
      "Epoch 51/60\n",
      "\u001b[1m5/5\u001b[0m \u001b[32m━━━━━━━━━━━━━━━━━━━━\u001b[0m\u001b[37m\u001b[0m \u001b[1m1s\u001b[0m 173ms/step - accuracy: 0.7812 - loss: 0.4890 - val_accuracy: 0.7812 - val_loss: 0.5353\n",
      "Epoch 52/60\n",
      "\u001b[1m5/5\u001b[0m \u001b[32m━━━━━━━━━━━━━━━━━━━━\u001b[0m\u001b[37m\u001b[0m \u001b[1m1s\u001b[0m 166ms/step - accuracy: 0.8113 - loss: 0.4045 - val_accuracy: 0.7344 - val_loss: 0.5131\n",
      "Epoch 53/60\n",
      "\u001b[1m5/5\u001b[0m \u001b[32m━━━━━━━━━━━━━━━━━━━━\u001b[0m\u001b[37m\u001b[0m \u001b[1m1s\u001b[0m 163ms/step - accuracy: 0.7399 - loss: 0.5382 - val_accuracy: 0.8125 - val_loss: 0.4483\n",
      "Epoch 54/60\n",
      "\u001b[1m5/5\u001b[0m \u001b[32m━━━━━━━━━━━━━━━━━━━━\u001b[0m\u001b[37m\u001b[0m \u001b[1m1s\u001b[0m 167ms/step - accuracy: 0.7487 - loss: 0.4690 - val_accuracy: 0.6875 - val_loss: 0.5986\n",
      "Epoch 55/60\n",
      "\u001b[1m5/5\u001b[0m \u001b[32m━━━━━━━━━━━━━━━━━━━━\u001b[0m\u001b[37m\u001b[0m \u001b[1m1s\u001b[0m 169ms/step - accuracy: 0.7621 - loss: 0.4666 - val_accuracy: 0.6094 - val_loss: 0.6581\n",
      "Epoch 56/60\n",
      "\u001b[1m5/5\u001b[0m \u001b[32m━━━━━━━━━━━━━━━━━━━━\u001b[0m\u001b[37m\u001b[0m \u001b[1m1s\u001b[0m 159ms/step - accuracy: 0.7694 - loss: 0.4817 - val_accuracy: 0.7656 - val_loss: 0.4909\n",
      "Epoch 57/60\n",
      "\u001b[1m5/5\u001b[0m \u001b[32m━━━━━━━━━━━━━━━━━━━━\u001b[0m\u001b[37m\u001b[0m \u001b[1m1s\u001b[0m 158ms/step - accuracy: 0.7977 - loss: 0.4689 - val_accuracy: 0.6875 - val_loss: 0.6233\n",
      "Epoch 58/60\n",
      "\u001b[1m5/5\u001b[0m \u001b[32m━━━━━━━━━━━━━━━━━━━━\u001b[0m\u001b[37m\u001b[0m \u001b[1m1s\u001b[0m 175ms/step - accuracy: 0.7812 - loss: 0.4690 - val_accuracy: 0.7969 - val_loss: 0.5295\n",
      "Epoch 59/60\n",
      "\u001b[1m5/5\u001b[0m \u001b[32m━━━━━━━━━━━━━━━━━━━━\u001b[0m\u001b[37m\u001b[0m \u001b[1m1s\u001b[0m 155ms/step - accuracy: 0.8235 - loss: 0.4007 - val_accuracy: 0.8281 - val_loss: 0.3815\n",
      "Epoch 60/60\n",
      "\u001b[1m5/5\u001b[0m \u001b[32m━━━━━━━━━━━━━━━━━━━━\u001b[0m\u001b[37m\u001b[0m \u001b[1m1s\u001b[0m 152ms/step - accuracy: 0.8140 - loss: 0.4501 - val_accuracy: 0.6250 - val_loss: 0.5764\n",
      "############### Total Time Taken:  1 Minutes #############\n"
     ]
    }
   ],
   "source": [
    "import time\n",
    "# Measuring the time taken by the model to train\n",
    "StartTime=time.time()\n",
    "\n",
    "# Starting the model training\n",
    "classifier.fit(\n",
    "                    training_set,\n",
    "                    steps_per_epoch=5,\n",
    "                    epochs=60,\n",
    "                    validation_data=test_set,\n",
    "                    validation_steps=2)\n",
    "\n",
    "EndTime=time.time()\n",
    "print(\"############### Total Time Taken: \", round((EndTime-StartTime)/60), 'Minutes #############')"
   ]
  },
  {
   "cell_type": "markdown",
   "id": "70b6e06f-a4f8-4cfa-836f-45a7d8b58c32",
   "metadata": {},
   "source": [
    "### Saving the model"
   ]
  },
  {
   "cell_type": "code",
   "execution_count": 11,
   "id": "742e2450-dd36-4f70-aafa-a573d3423991",
   "metadata": {
    "tags": []
   },
   "outputs": [],
   "source": [
    "classifier.save(\"classifier.keras\")"
   ]
  },
  {
   "cell_type": "markdown",
   "id": "289879a7-49ef-49bd-91b3-c4f620700c9e",
   "metadata": {},
   "source": [
    "### Testing the model on a different CT Scan with COVID & Non-COVID Images"
   ]
  },
  {
   "cell_type": "code",
   "execution_count": 12,
   "id": "eb1f74eb-d111-448d-aa42-cd7346abb23d",
   "metadata": {
    "tags": []
   },
   "outputs": [
    {
     "name": "stdout",
     "output_type": "stream",
     "text": [
      "### Printing probabilities for each class ###\n",
      "[[1. 0.]] \n",
      "\n",
      "### Printing original CT Scan with COVID & Non-COVID Images mapping ###\n",
      "{0: 'COVID', 1: 'non-COVID'} \n",
      "\n",
      "########################################\n",
      "Prediction is:  COVID\n"
     ]
    }
   ],
   "source": [
    "'''########################## Making single predictions ############################'''\n",
    "import numpy as np\n",
    "from keras.preprocessing import image\n",
    "\n",
    "testImage='C:/Users/Niraj Gupta/Desktop/Naveen/Medical Billing Project/SARS-COV-2 Ct-Scan Dataset/Testing Dataset/COVID/Covid (6).png'\n",
    "test_image=image.load_img(testImage,target_size=(64, 64))\n",
    "test_image=image.img_to_array(test_image)\n",
    "\n",
    "test_image=np.expand_dims(test_image,axis=0)\n",
    "\n",
    "result=classifier.predict(test_image,verbose=0)\n",
    "print('### Printing probabilities for each class ###')\n",
    "print(result, '\\n')\n",
    "print('### Printing original CT Scan with COVID & Non-COVID Images mapping ###')\n",
    "print(ResultMap, '\\n')\n",
    "print('####'*10)\n",
    "print('Prediction is: ',ResultMap[np.argmax(result)])"
   ]
  }
 ],
 "metadata": {
  "kernelspec": {
   "display_name": "Python 3 (ipykernel)",
   "language": "python",
   "name": "python3"
  },
  "language_info": {
   "codemirror_mode": {
    "name": "ipython",
    "version": 3
   },
   "file_extension": ".py",
   "mimetype": "text/x-python",
   "name": "python",
   "nbconvert_exporter": "python",
   "pygments_lexer": "ipython3",
   "version": "3.11.4"
  }
 },
 "nbformat": 4,
 "nbformat_minor": 5
}
